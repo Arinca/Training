{
 "cells": [
  {
   "cell_type": "markdown",
   "metadata": {},
   "source": [
    "### OPEN AN ITALIAN RESTAURANT IN BARCELONA"
   ]
  },
  {
   "cell_type": "markdown",
   "metadata": {},
   "source": [
    "## Business Problem\n",
    "The objective of this project is to find the most suitable location for the entrepreneur to open an ITALIAN restaurant in BARCELONA, SPAIN. By using Data analysis, and machine learning algorithms like clustering and give a suggestion whether we should open it.\n",
    "\n",
    "## Target Audience\n",
    "The entrepreneur who wants to find the location to open a reliable Italian restaurant.\n",
    "\n",
    "## Data\n",
    "To solve the problem, we need the following data:\n",
    "List of Barcelona restaurants\n",
    "List of Barcelona popular avenues\n",
    "\n",
    "\n",
    "## Extracting the data\n",
    "Using foursquare API:\n",
    "Retrieve Barcelona's most popular avenues\n",
    "Retrieve Barcelona's Restaurant locations and cluster them by type\n",
    "\n",
    "## How to use the data\n",
    "Clustering the venues with or without Italian restaurant using K-means.\n",
    "Suggest a cluster where might be suitable to place the new successful italian restaurant.\n"
   ]
  },
  {
   "cell_type": "markdown",
   "metadata": {},
   "source": [
    "\n",
    "![alt text](https://github.com/Arinca/Training/blob/master/trattoria-anita.jpg?raw=true \"logo title text 1\")"
   ]
  },
  {
   "cell_type": "markdown",
   "metadata": {},
   "source": []
  },
  {
   "cell_type": "code",
   "execution_count": null,
   "metadata": {},
   "outputs": [],
   "source": []
  }
 ],
 "metadata": {
  "kernelspec": {
   "display_name": "Python",
   "language": "python",
   "name": "conda-env-python-py"
  },
  "language_info": {
   "codemirror_mode": {
    "name": "ipython",
    "version": 3
   },
   "file_extension": ".py",
   "mimetype": "text/x-python",
   "name": "python",
   "nbconvert_exporter": "python",
   "pygments_lexer": "ipython3",
   "version": "3.6.10"
  }
 },
 "nbformat": 4,
 "nbformat_minor": 4
}
